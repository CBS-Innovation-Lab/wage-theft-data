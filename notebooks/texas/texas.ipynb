{
 "cells": [
  {
   "attachments": {},
   "cell_type": "markdown",
   "metadata": {},
   "source": [
    "# Texas wage theft data details"
   ]
  },
  {
   "attachments": {},
   "cell_type": "markdown",
   "metadata": {},
   "source": [
    "We shared the results of our analysis with the Texas Workforce Commission so they could comment. After receiving no response for about two weeks, Brian New, our local reporter in Texas interviewed the director of the Commission. In that interview, the director told Brian that they gave us the wrong fields for several of the fields we requested. This notebook will document how we're handling this in our analysis. There are also additional notes in notebooks/national_analysis/national_analysis.ipynb. "
   ]
  },
  {
   "cell_type": "code",
   "execution_count": 1,
   "metadata": {},
   "outputs": [],
   "source": [
    "import pandas as pd\n"
   ]
  },
  {
   "cell_type": "code",
   "execution_count": 2,
   "metadata": {},
   "outputs": [],
   "source": [
    "df = pd.read_excel(\"input/Copy_of_RESULTS_-_MEDIA_REQUEST_-_January_1_2010_to_Jul_14_2022.xlsx\")\n"
   ]
  },
  {
   "attachments": {},
   "cell_type": "markdown",
   "metadata": {},
   "source": [
    "They informed us there are duplicates in the data. These have also been addressed using a new processor in task 1"
   ]
  },
  {
   "cell_type": "code",
   "execution_count": 3,
   "metadata": {},
   "outputs": [],
   "source": [
    "df = df.drop_duplicates(\"WAGE_CLAIM_ID\")\n"
   ]
  },
  {
   "attachments": {},
   "cell_type": "markdown",
   "metadata": {},
   "source": [
    "We were told that their data does not reliably track the amounts of money that claimants received, despite the fact that a field exists in their database and appears to be used some of the time. They informed us that these numeric status codes are used to designate cases that are paid. "
   ]
  },
  {
   "cell_type": "code",
   "execution_count": 4,
   "metadata": {},
   "outputs": [],
   "source": [
    "PAID_STATUS_CODES = [950, 970]\n"
   ]
  },
  {
   "attachments": {},
   "cell_type": "markdown",
   "metadata": {},
   "source": [
    "These same figures are also now reflected in notebooks/national_analysis/national_analysis.ipynb. "
   ]
  },
  {
   "cell_type": "code",
   "execution_count": 5,
   "metadata": {},
   "outputs": [
    {
     "data": {
      "text/html": [
       "<div>\n",
       "<style scoped>\n",
       "    .dataframe tbody tr th:only-of-type {\n",
       "        vertical-align: middle;\n",
       "    }\n",
       "\n",
       "    .dataframe tbody tr th {\n",
       "        vertical-align: top;\n",
       "    }\n",
       "\n",
       "    .dataframe thead th {\n",
       "        text-align: right;\n",
       "    }\n",
       "</style>\n",
       "<table border=\"1\" class=\"dataframe\">\n",
       "  <thead>\n",
       "    <tr style=\"text-align: right;\">\n",
       "      <th></th>\n",
       "      <th>True</th>\n",
       "      <th>False</th>\n",
       "      <th>pct_true</th>\n",
       "    </tr>\n",
       "  </thead>\n",
       "  <tbody>\n",
       "    <tr>\n",
       "      <th>n</th>\n",
       "      <td>33540</td>\n",
       "      <td>26755</td>\n",
       "      <td>0.556265</td>\n",
       "    </tr>\n",
       "  </tbody>\n",
       "</table>\n",
       "</div>"
      ],
      "text/plain": [
       "    True  False  pct_true\n",
       "n  33540  26755  0.556265"
      ]
     },
     "execution_count": 5,
     "metadata": {},
     "output_type": "execute_result"
    }
   ],
   "source": [
    "(\n",
    "    df.assign(paid=lambda x: x.FK_VCMPLNT_STSCD.isin(PAID_STATUS_CODES))\n",
    "    .query(\"AWARDED == 'YES'\")\n",
    "    .paid.value_counts()\n",
    "    .to_frame(\"n\")\n",
    "    .transpose()\n",
    "    .assign(pct_true=lambda x: x[True] / x.sum(axis=1))\n",
    ")\n"
   ]
  },
  {
   "attachments": {},
   "cell_type": "markdown",
   "metadata": {},
   "source": [
    "For comparison, this is the figure you get when you use the paid amounts. "
   ]
  },
  {
   "cell_type": "code",
   "execution_count": 6,
   "metadata": {},
   "outputs": [
    {
     "data": {
      "text/html": [
       "<div>\n",
       "<style scoped>\n",
       "    .dataframe tbody tr th:only-of-type {\n",
       "        vertical-align: middle;\n",
       "    }\n",
       "\n",
       "    .dataframe tbody tr th {\n",
       "        vertical-align: top;\n",
       "    }\n",
       "\n",
       "    .dataframe thead th {\n",
       "        text-align: right;\n",
       "    }\n",
       "</style>\n",
       "<table border=\"1\" class=\"dataframe\">\n",
       "  <thead>\n",
       "    <tr style=\"text-align: right;\">\n",
       "      <th></th>\n",
       "      <th>False</th>\n",
       "      <th>True</th>\n",
       "      <th>pct_true</th>\n",
       "    </tr>\n",
       "  </thead>\n",
       "  <tbody>\n",
       "    <tr>\n",
       "      <th>n</th>\n",
       "      <td>106124</td>\n",
       "      <td>13341</td>\n",
       "      <td>0.111673</td>\n",
       "    </tr>\n",
       "  </tbody>\n",
       "</table>\n",
       "</div>"
      ],
      "text/plain": [
       "    False   True  pct_true\n",
       "n  106124  13341  0.111673"
      ]
     },
     "execution_count": 6,
     "metadata": {},
     "output_type": "execute_result"
    }
   ],
   "source": [
    "(\n",
    "    pd.read_excel(\"input/ORR_R005317-081222_from_CBS__C._Hacker__File_date___Amts.xlsx\")\n",
    "    .assign(paid=lambda x: x.PAID.notna() & x.PAID != 0)\n",
    "    .query(\"CLAIMED != 0\")\n",
    "    .paid.value_counts()\n",
    "    .to_frame(\"n\")\n",
    "    .transpose()\n",
    "    .assign(pct_true=lambda x: x[True] / x.sum(axis=1))\n",
    ")\n"
   ]
  },
  {
   "attachments": {},
   "cell_type": "markdown",
   "metadata": {},
   "source": [
    "The TWC also informed us that they provided the wrong date field for the case end date. They gave us the status date, which designates the most recent change to the case, such as filing an appeal or entering a lien. They told us that they would rather us use the date a preliminary decision was reached, which gives you a 65 day case duration rather than the > 200 day duration we had originally. However, we believe that the status date is fair to use. The preliminary decision does not mean a person was paid, and if a case is appealed or penalties are applied to a business, that still means that the case is functionally pending for the claimant. \n",
    "\n",
    "They did not provide the decision date field. "
   ]
  }
 ],
 "metadata": {
  "kernelspec": {
   "display_name": "venv",
   "language": "python",
   "name": "python3"
  },
  "language_info": {
   "codemirror_mode": {
    "name": "ipython",
    "version": 3
   },
   "file_extension": ".py",
   "mimetype": "text/x-python",
   "name": "python",
   "nbconvert_exporter": "python",
   "pygments_lexer": "ipython3",
   "version": "3.10.8"
  },
  "orig_nbformat": 4,
  "vscode": {
   "interpreter": {
    "hash": "742cc3b4fbeb7091e4b2ad3a11efae25ca618988f0f73f60f3ba46e028848b9b"
   }
  }
 },
 "nbformat": 4,
 "nbformat_minor": 2
}
